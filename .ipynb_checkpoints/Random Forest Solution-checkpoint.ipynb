{
 "cells": [
  {
   "cell_type": "code",
   "execution_count": 1,
   "metadata": {},
   "outputs": [],
   "source": [
    "import numpy as np # to build the algorithm\n",
    "import matplotlib.pyplot as plt # to visualize\n",
    "from sklearn.datasets import make_circles # to generate a dataset"
   ]
  },
  {
   "cell_type": "code",
   "execution_count": 2,
   "metadata": {},
   "outputs": [
    {
     "data": {
      "text/plain": [
       "<matplotlib.legend.Legend at 0x1186c8f28>"
      ]
     },
     "execution_count": 2,
     "metadata": {},
     "output_type": "execute_result"
    },
    {
     "data": {
      "image/png": "[encoded data removed]",
      "text/plain": [
       "<Figure size 432x288 with 1 Axes>"
      ]
     },
     "metadata": {
      "needs_background": "light"
     },
     "output_type": "display_data"
    }
   ],
   "source": [
    "# Generate a dataset\n",
    "X, y = make_circles(n_samples=100, noise=0.05, factor = 0.5)\n",
    "plt.scatter(X[:,0][y==0], X[:,1][y==0], label=0)\n",
    "plt.scatter(X[:,0][y==1], X[:,1][y==1], label=1)\n",
    "plt.legend()"
   ]
  },
  {
   "cell_type": "code",
   "execution_count": 3,
   "metadata": {},
   "outputs": [],
   "source": [
    "def gini_calculator(y):\n",
    "    '''\n",
    "    Calculates the gini impurity of a group\n",
    "    y contains all the labels ie 1001110...\n",
    "    gini = 1 - p1^2 - p0^2\n",
    "    '''\n",
    "    probs = []\n",
    "    for label in np.unique(y):\n",
    "        prob = len(y[y==label])/len(y)\n",
    "        probs.append(prob)\n",
    "    gini = 1-np.sum(np.square(np.array(probs)))\n",
    "    return gini"
   ]
  },
  {
   "cell_type": "code",
   "execution_count": 4,
   "metadata": {},
   "outputs": [
    {
     "data": {
      "text/plain": [
       "Text(0, 0.5, 'Gini')"
      ]
     },
     "execution_count": 4,
     "metadata": {},
     "output_type": "execute_result"
    },
    {
     "data": {
      "image/png": "[encoded data removed]",
      "text/plain": [
       "<Figure size 432x288 with 1 Axes>"
      ]
     },
     "metadata": {
      "needs_background": "light"
     },
     "output_type": "display_data"
    }
   ],
   "source": [
    "# Sanity check\n",
    "for i in range(11):\n",
    "    num_ones = i\n",
    "    num_zeros = 10-i\n",
    "    prop = num_ones/10\n",
    "    gini = gini_calculator(np.concatenate((np.ones(num_ones), np.zeros(num_zeros))))\n",
    "    plt.scatter(prop, gini, color='b')\n",
    "plt.xlabel('Ratio of 1')\n",
    "plt.ylabel('Gini')"
   ]
  },
  {
   "cell_type": "code",
   "execution_count": 5,
   "metadata": {},
   "outputs": [],
   "source": [
    "def gini_of_a_split(y1, y2):\n",
    "    '''\n",
    "    Weighted average gini\n",
    "    for y1 and y2\n",
    "    '''\n",
    "    g1 = gini_calculator(y1)\n",
    "    w1 = len(y1)/(len(y1)+len(y2))\n",
    "    g2 = gini_calculator(y2)\n",
    "    w2 = len(y2)/(len(y1)+len(y2))\n",
    "    avg_gini = g1*w1 + g2*w2\n",
    "    return avg_gini"
   ]
  },
  {
   "cell_type": "code",
   "execution_count": 6,
   "metadata": {},
   "outputs": [],
   "source": [
    "from operator import itemgetter\n",
    "\n",
    "def split_finder(X, y):\n",
    "    '''\n",
    "    Finds the best split\n",
    "    in terms of feature and its value\n",
    "    that minimizes the average gini\n",
    "    \n",
    "    return best feature index and value\n",
    "    '''\n",
    "    splits = []\n",
    "    for i in range(X.shape[1]):\n",
    "        for Xi in X[:,i]:\n",
    "            y1=y[X[:,i]<Xi]\n",
    "            y2=y[X[:,i]>=Xi]\n",
    "            avg_gini = gini_of_a_split(y1, y2)\n",
    "            splits.append([i, Xi, avg_gini])\n",
    "    \n",
    "    best_split = min(splits, key=itemgetter(2))\n",
    "    \n",
    "    # best split rests on a datapoint\n",
    "    # better if it rests in between datapoints\n",
    "    # next part finds the other datapoint\n",
    "    # calculates the in between split.\n",
    "    \n",
    "    # sorted values of feature_i\n",
    "    sorted_vals_of_i = np.array(sorted(X[:,best_split[0]]))\n",
    "    # calculate the other datapoint ie closest smaller value\n",
    "    closest_smaller_val = sorted_vals_of_i[sorted_vals_of_i<best_split[1]][-1]\n",
    "    # average to points to find the in between decision boundary\n",
    "    best_split[1] = (best_split[1] + closest_smaller_val) / 2\n",
    "    \n",
    "    return best_split[0:2]"
   ]
  },
  {
   "cell_type": "code",
   "execution_count": 7,
   "metadata": {},
   "outputs": [
    {
     "data": {
      "image/png": "[encoded data removed]",
      "text/plain": [
       "<Figure size 432x288 with 1 Axes>"
      ]
     },
     "metadata": {
      "needs_background": "light"
     },
     "output_type": "display_data"
    }
   ],
   "source": [
    "# Visualize the first split\n",
    "best_split = split_finder(X, y)\n",
    "plt.scatter(X[:,0][y==0], X[:,1][y==0], label=0)\n",
    "plt.scatter(X[:,0][y==1], X[:,1][y==1], label=1)\n",
    "plt.legend()\n",
    "\n",
    "if best_split[0]==0:\n",
    "    plt.plot([best_split[1],best_split[1]],[min(X[:,1]),max(X[:,1])])\n",
    "elif best_split[0]==1:\n",
    "    plt.plot([min(X[:,0]),max(X[:,0])],[best_split[1],best_split[1]])"
   ]
  },
  {
   "cell_type": "code",
   "execution_count": 8,
   "metadata": {},
   "outputs": [],
   "source": [
    "def splitter(X, y):\n",
    "    '''\n",
    "    Given X and y\n",
    "    calculates the best split\n",
    "    returns splitted dataset and the best split\n",
    "    In other words, this is one node.\n",
    "    Building block of a tree.\n",
    "    '''\n",
    "    split = split_finder(X, y)\n",
    "    X1=X[X[:,split[0]]<=split[1]]\n",
    "    y1=y[X[:,split[0]]<=split[1]]\n",
    "    \n",
    "    X2=X[X[:,split[0]]>split[1]]\n",
    "    y2=y[X[:,split[0]]>split[1]]\n",
    "    \n",
    "    return [X1, y1], [X2, y2], split"
   ]
  },
  {
   "cell_type": "code",
   "execution_count": 9,
   "metadata": {},
   "outputs": [],
   "source": [
    "def fit_tree(X, y):\n",
    "    '''\n",
    "    Given X and y\n",
    "    Repeat splitter to create a tree.\n",
    "    return the tree i.e. the trained model\n",
    "    '''\n",
    "    \n",
    "    max_depth = 20\n",
    "    groups_in_depth = {}\n",
    "    i=0\n",
    "    node_name = 'root'\n",
    "    first_group = [X,y]\n",
    "\n",
    "    groups_in_depth[i] = [[first_group, node_name]]\n",
    "    tree = {}\n",
    "\n",
    "    while i<max_depth:\n",
    "        # create the next depth\n",
    "        groups_in_depth[i+1]=[]\n",
    "\n",
    "        for group_n_name in groups_in_depth[i]:\n",
    "            group = group_n_name[0]\n",
    "            node_name = group_n_name[1]\n",
    "            group1, group2, split = splitter(group[0], group[1])\n",
    "\n",
    "            tree[node_name]={}\n",
    "            tree[node_name]['feat_indx'] = split[0]\n",
    "            tree[node_name]['feat_val'] = split[1]\n",
    "            tree[node_name]['class_indx'] = np.bincount(group1[1]).argmax()\n",
    "\n",
    "            group1_name = node_name + 'L'\n",
    "            group2_name = node_name + 'R'\n",
    "\n",
    "\n",
    "            if gini_calculator(group1[1])!=0 and len(group1[1])>3:\n",
    "                groups_in_depth[i+1].append([group1, group1_name])\n",
    "\n",
    "            if gini_calculator(group2[1])!=0 and len(group2[1])>3:\n",
    "                groups_in_depth[i+1].append([group2, group2_name])\n",
    "\n",
    "\n",
    "        if len(groups_in_depth[i+1])==0:break\n",
    "        i=i+1\n",
    "        \n",
    "    return tree"
   ]
  },
  {
   "cell_type": "code",
   "execution_count": 10,
   "metadata": {},
   "outputs": [],
   "source": [
    "tree = fit_tree(X,y)"
   ]
  },
  {
   "cell_type": "code",
   "execution_count": 11,
   "metadata": {},
   "outputs": [],
   "source": [
    "def predict_tree(X, tree):\n",
    "    '''\n",
    "    Given the data and the model\n",
    "    predict labels\n",
    "    '''\n",
    "    y_pred = []\n",
    "    for i in range(len(y)):\n",
    "        data_point = X[i]\n",
    "        node_name = 'root'\n",
    "\n",
    "        while node_name in tree.keys():\n",
    "            if data_point[tree[node_name]['feat_indx']]<=tree[node_name]['feat_val']:\n",
    "                class_indx = tree[node_name]['class_indx']\n",
    "                node_name = node_name+'L'\n",
    "            else:\n",
    "                class_indx = 1 - tree[node_name]['class_indx']\n",
    "                node_name = node_name+'R'\n",
    "\n",
    "        y_pred.append(class_indx)\n",
    "    return y_pred"
   ]
  },
  {
   "cell_type": "code",
   "execution_count": 12,
   "metadata": {},
   "outputs": [],
   "source": [
    "y_pred = predict_tree(X, tree)"
   ]
  },
  {
   "cell_type": "code",
   "execution_count": 13,
   "metadata": {},
   "outputs": [],
   "source": [
    "def accuracy(y_pred, y):\n",
    "    return sum(y_pred==y)/len(y)"
   ]
  },
  {
   "cell_type": "code",
   "execution_count": 14,
   "metadata": {},
   "outputs": [
    {
     "data": {
      "text/plain": [
       "1.0"
      ]
     },
     "execution_count": 14,
     "metadata": {},
     "output_type": "execute_result"
    }
   ],
   "source": [
    "accuracy(y_pred, y)"
   ]
  },
  {
   "cell_type": "code",
   "execution_count": 15,
   "metadata": {},
   "outputs": [
    {
     "name": "stdout",
     "output_type": "stream",
     "text": [
      "Training acc: 1.0\n",
      "Testing acc: 0.9\n"
     ]
    }
   ],
   "source": [
    "# Putting all together\n",
    "# with Train/Test\n",
    "X_train, y_train = make_circles(n_samples=100, noise=0.05, factor = 0.5)\n",
    "X_test, y_test = make_circles(n_samples=100, noise=0.05, factor = 0.5)\n",
    "tree = fit_tree(X_train, y_train)\n",
    "y_pred_train = predict_tree(X_train, tree)\n",
    "y_pred_test = predict_tree(X_test, tree)\n",
    "\n",
    "print('Training acc:', accuracy(y_pred_train, y_train))\n",
    "print('Testing acc:', accuracy(y_pred_test, y_test))"
   ]
  },
  {
   "cell_type": "code",
   "execution_count": 16,
   "metadata": {},
   "outputs": [],
   "source": [
    "def fit_forest(X,y):\n",
    "    '''\n",
    "    Fit 30 trees\n",
    "    by randomly sampling from\n",
    "    X and y\n",
    "    return 30 trees\n",
    "    '''\n",
    "    num_trees = 30\n",
    "    forest = []\n",
    "    for i in range(num_trees):\n",
    "        idx = np.random.choice(np.arange(len(y)),int(len(y)*0.8))\n",
    "        X_sample = X[idx]\n",
    "        y_sample = y[idx]\n",
    "        tree = fit_tree(X_sample, y_sample)\n",
    "        forest.append(tree)\n",
    "    return forest"
   ]
  },
  {
   "cell_type": "code",
   "execution_count": 17,
   "metadata": {},
   "outputs": [],
   "source": [
    "def predict_forest(X, forest):\n",
    "    '''\n",
    "    Predict the labels for X\n",
    "    for all 30 trees\n",
    "    calculate the average of 30 trees\n",
    "    return avg. predictions\n",
    "    '''\n",
    "    y_preds = []\n",
    "    for tree in forest:\n",
    "        y_pred = predict_tree(X, tree)\n",
    "        y_preds.append(y_pred)\n",
    "    y_preds = np.array(y_preds)\n",
    "    \n",
    "    y_pred = np.mean(y_preds, axis=0)\n",
    "    y_pred[y_pred>0.5]=1\n",
    "    y_pred[y_pred<=0.5]=0\n",
    "    return y_pred"
   ]
  },
  {
   "cell_type": "code",
   "execution_count": 18,
   "metadata": {},
   "outputs": [
    {
     "data": {
      "text/plain": [
       "1.0"
      ]
     },
     "execution_count": 18,
     "metadata": {},
     "output_type": "execute_result"
    }
   ],
   "source": [
    "X_train, y_train = make_circles(n_samples=100, noise=0.05, factor = 0.5)\n",
    "X_test, y_test = make_circles(n_samples=100, noise=0.05, factor = 0.5)\n",
    "forest = fit_forest(X_train,y_train)\n",
    "y_pred = predict_forest(X_test, forest)\n",
    "accuracy(y_pred, y_test)"
   ]
  }
 ],
 "metadata": {
  "kernelspec": {
   "display_name": "Python 3",
   "language": "python",
   "name": "python3"
  },
  "language_info": {
   "codemirror_mode": {
    "name": "ipython",
    "version": 3
   },
   "file_extension": ".py",
   "mimetype": "text/x-python",
   "name": "python",
   "nbconvert_exporter": "python",
   "pygments_lexer": "ipython3",
   "version": "3.6.5"
  }
 },
 "nbformat": 4,
 "nbformat_minor": 2
}
